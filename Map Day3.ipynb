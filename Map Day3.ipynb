{
 "cells": [
  {
   "cell_type": "code",
   "execution_count": 1,
   "id": "849dd326",
   "metadata": {},
   "outputs": [],
   "source": [
    "#30DayMapChallenge Day 3: Polygons\n",
    "#Voronoi plot of player positions on the sole goal of the July 2018 match between OL Reign and Utah Royals, scored by Megan Rapinoe\n",
    "#Python #Jupyter #dataviz #BoldTogether\n",
    "#Data Source: @StatsBomb\n",
    "#Code Basis: @mckayjohns\n",
    "#pip install mplsoccer"
   ]
  },
  {
   "cell_type": "code",
   "execution_count": 2,
   "id": "a8f75e7b",
   "metadata": {},
   "outputs": [],
   "source": [
    "import pandas as pd\n",
    "import numpy as np\n",
    "import geopandas as gpd\n",
    "import contextily as ctx\n",
    "import matplotlib.pyplot as plt\n",
    "from shapely.ops import unary_union, cascaded_union\n",
    "from mplsoccer.pitch import Pitch "
   ]
  },
  {
   "cell_type": "code",
   "execution_count": 3,
   "id": "abcf42a4",
   "metadata": {},
   "outputs": [
    {
     "data": {
      "image/png": "[encoded data removed]",
      "text/plain": [
       "<Figure size 936x612 with 1 Axes>"
      ]
     },
     "metadata": {
      "needs_background": "light"
     },
     "output_type": "display_data"
    }
   ],
   "source": [
    "#Drawing a soccer pitch using mplsoccer package\n",
    "fig, ax = plt.subplots(figsize = (13,8.5))\n",
    "\n",
    "pitch = Pitch(pitch_type =\"statsbomb\", #orientation = \"horizontal\",\n",
    "              pitch_color =\"green\",line_color=\"white\",#constrained_layout = False, view = 'half',\n",
    "              axis =True, label = True, tick=True)\n",
    "pitch.draw(ax=ax)"
   ]
  },
  {
   "cell_type": "code",
   "execution_count": 4,
   "id": "91c9e59a",
   "metadata": {},
   "outputs": [],
   "source": [
    "dforig = pd.read_json('7480.json')"
   ]
  },
  {
   "cell_type": "code",
   "execution_count": 5,
   "id": "18804a6b",
   "metadata": {},
   "outputs": [
    {
     "name": "stderr",
     "output_type": "stream",
     "text": [
      "C:\\Users\\matan\\AppData\\Local\\Temp/ipykernel_42432/1382830064.py:12: SettingWithCopyWarning: \n",
      "A value is trying to be set on a copy of a slice from a DataFrame\n",
      "\n",
      "See the caveats in the documentation: https://pandas.pydata.org/pandas-docs/stable/user_guide/indexing.html#returning-a-view-versus-a-copy\n",
      "  df['x'][i] = df.location[i][0]\n",
      "C:\\Users\\matan\\AppData\\Local\\Temp/ipykernel_42432/1382830064.py:13: SettingWithCopyWarning: \n",
      "A value is trying to be set on a copy of a slice from a DataFrame\n",
      "\n",
      "See the caveats in the documentation: https://pandas.pydata.org/pandas-docs/stable/user_guide/indexing.html#returning-a-view-versus-a-copy\n",
      "  df['y'][i] = df.location[i][1]\n"
     ]
    }
   ],
   "source": [
    "#Setting up and cleaning dataset\n",
    "df = dforig\n",
    "df = df.fillna(0)\n",
    "df = df.loc[df.location != 0]\n",
    "df = df.drop(columns=['id','tactics', 'related_events', 'counterpress', 'under_pressure',\n",
    "       'ball_recovery', 'goalkeeper', 'duel', 'dribble',\n",
    "       'foul_committed', 'interception', 'block', 'foul_won',\n",
    "       'substitution']).reset_index()\n",
    "df['x'] = df['location']\n",
    "df['y'] = df['location']\n",
    "for i in range(len(df)):\n",
    "    df['x'][i] = df.location[i][0]\n",
    "    df['y'][i] = df.location[i][1]"
   ]
  },
  {
   "cell_type": "code",
   "execution_count": 6,
   "id": "262bd6eb",
   "metadata": {},
   "outputs": [
    {
     "name": "stdout",
     "output_type": "stream",
     "text": [
      "index                                                             10\n",
      "level_0                                                         1793\n",
      "period                                                             2\n",
      "timestamp                                 2022-12-13 00:08:15.726000\n",
      "minute                                                            53\n",
      "second                                                            15\n",
      "type                                      {'id': 16, 'name': 'Shot'}\n",
      "possession                                                       119\n",
      "possession_team                      {'id': 760, 'name': 'OL Reign'}\n",
      "play_pattern                        {'id': 2, 'name': 'From Corner'}\n",
      "team                                 {'id': 760, 'name': 'OL Reign'}\n",
      "duration                                                       1.345\n",
      "player                    {'id': 8298, 'name': 'Megan Anna Rapinoe'}\n",
      "position                             {'id': 21, 'name': 'Left Wing'}\n",
      "location                                               [117.0, 30.0]\n",
      "pass                                                               0\n",
      "carry                                                              0\n",
      "ball_receipt                                                       0\n",
      "shot               {'statsbomb_xg': 0.03352916, 'end_location': [...\n",
      "50_50                                                              0\n",
      "x                                                              117.0\n",
      "y                                                               30.0\n",
      "Name: 10, dtype: object\n",
      "{'location': [108.0, 26.0], 'player': {'id': 8297, 'name': 'Adriana Kristina Leon'}, 'position': {'id': 17, 'name': 'Right Wing'}, 'teammate': True}\n",
      "{'location': [114.0, 47.0], 'player': {'id': 5007, 'name': 'Megan Montefusco'}, 'position': {'id': 3, 'name': 'Right Center Back'}, 'teammate': True}\n",
      "{'location': [113.0, 44.0], 'player': {'id': 5016, 'name': 'Jessica Fishlock'}, 'position': {'id': 15, 'name': 'Left Center Midfield'}, 'teammate': True}\n",
      "{'location': [116.0, 44.0], 'player': {'id': 5001, 'name': 'Allie Long'}, 'position': {'id': 13, 'name': 'Right Center Midfield'}, 'teammate': True}\n",
      "{'location': [117.0, 41.0], 'player': {'id': 5006, 'name': 'Beverly Yanez'}, 'position': {'id': 14, 'name': 'Center Midfield'}, 'teammate': True}\n",
      "{'location': [117.0, 39.0], 'player': {'id': 5002, 'name': 'Jodie Taylor'}, 'position': {'id': 23, 'name': 'Center Forward'}, 'teammate': True}\n"
     ]
    }
   ],
   "source": [
    "shots = df.loc[df.type == {'id': 16, 'name': 'Shot'} ]\n",
    "shots = shots.drop(columns=[\"index\"]).reset_index()\n",
    "shots = shots.drop(columns=[\"index\"]).reset_index()\n",
    "locX = []\n",
    "locY = []\n",
    "oppX = []\n",
    "oppY = []\n",
    "a=0\n",
    "#Setting up the shots dataset with readable location data\n",
    "for j in range(len(shots)):\n",
    "    if (a !=1):\n",
    "        if (shots.loc[j].shot[\"outcome\"] == {'id': 97, 'name': 'Goal'}):\n",
    "            print(shots.loc[j])\n",
    "            a=1\n",
    "            for i in range(len(shots.loc[j][\"shot\"][\"freeze_frame\"])):\n",
    "                if (shots.loc[j][\"shot\"][\"freeze_frame\"][i][\"teammate\"] == True):\n",
    "                    print(shots.loc[j][\"shot\"][\"freeze_frame\"][i])\n",
    "                    locX.append(shots.loc[j][\"shot\"][\"freeze_frame\"][i][\"location\"][0])\n",
    "                    locY.append(shots.loc[j][\"shot\"][\"freeze_frame\"][i][\"location\"][1])\n",
    "                else:\n",
    "                    oppX.append(shots.loc[j][\"shot\"][\"freeze_frame\"][i][\"location\"][0])\n",
    "                    oppY.append(shots.loc[j][\"shot\"][\"freeze_frame\"][i][\"location\"][1])"
   ]
  },
  {
   "cell_type": "code",
   "execution_count": 7,
   "id": "8d73b773",
   "metadata": {},
   "outputs": [],
   "source": [
    "#print(shots.loc[0][\"shot\"][\"freeze_frame\"])"
   ]
  },
  {
   "cell_type": "code",
   "execution_count": 8,
   "id": "2f84a4b8",
   "metadata": {},
   "outputs": [],
   "source": [
    "gov = list(np.zeros((6,),dtype=int))\n",
    "opp = list(np.ones((10,),dtype=int))\n",
    "fin = pd.DataFrame({\n",
    "    'x':locX + oppX,\n",
    "    'y':locY + oppY,\n",
    "    'team': gov + opp\n",
    "})"
   ]
  },
  {
   "cell_type": "code",
   "execution_count": 9,
   "id": "d18721ce",
   "metadata": {},
   "outputs": [
    {
     "data": {
      "text/html": [
       "<div>\n",
       "<style scoped>\n",
       "    .dataframe tbody tr th:only-of-type {\n",
       "        vertical-align: middle;\n",
       "    }\n",
       "\n",
       "    .dataframe tbody tr th {\n",
       "        vertical-align: top;\n",
       "    }\n",
       "\n",
       "    .dataframe thead th {\n",
       "        text-align: right;\n",
       "    }\n",
       "</style>\n",
       "<table border=\"1\" class=\"dataframe\">\n",
       "  <thead>\n",
       "    <tr style=\"text-align: right;\">\n",
       "      <th></th>\n",
       "      <th>x</th>\n",
       "      <th>y</th>\n",
       "      <th>team</th>\n",
       "    </tr>\n",
       "  </thead>\n",
       "  <tbody>\n",
       "    <tr>\n",
       "      <th>0</th>\n",
       "      <td>108.0</td>\n",
       "      <td>26.0</td>\n",
       "      <td>0</td>\n",
       "    </tr>\n",
       "    <tr>\n",
       "      <th>1</th>\n",
       "      <td>114.0</td>\n",
       "      <td>47.0</td>\n",
       "      <td>0</td>\n",
       "    </tr>\n",
       "    <tr>\n",
       "      <th>2</th>\n",
       "      <td>113.0</td>\n",
       "      <td>44.0</td>\n",
       "      <td>0</td>\n",
       "    </tr>\n",
       "    <tr>\n",
       "      <th>3</th>\n",
       "      <td>116.0</td>\n",
       "      <td>44.0</td>\n",
       "      <td>0</td>\n",
       "    </tr>\n",
       "    <tr>\n",
       "      <th>4</th>\n",
       "      <td>117.0</td>\n",
       "      <td>41.0</td>\n",
       "      <td>0</td>\n",
       "    </tr>\n",
       "    <tr>\n",
       "      <th>5</th>\n",
       "      <td>117.0</td>\n",
       "      <td>39.0</td>\n",
       "      <td>0</td>\n",
       "    </tr>\n",
       "    <tr>\n",
       "      <th>6</th>\n",
       "      <td>118.0</td>\n",
       "      <td>42.0</td>\n",
       "      <td>1</td>\n",
       "    </tr>\n",
       "    <tr>\n",
       "      <th>7</th>\n",
       "      <td>114.0</td>\n",
       "      <td>41.0</td>\n",
       "      <td>1</td>\n",
       "    </tr>\n",
       "    <tr>\n",
       "      <th>8</th>\n",
       "      <td>117.0</td>\n",
       "      <td>45.0</td>\n",
       "      <td>1</td>\n",
       "    </tr>\n",
       "    <tr>\n",
       "      <th>9</th>\n",
       "      <td>118.0</td>\n",
       "      <td>32.0</td>\n",
       "      <td>1</td>\n",
       "    </tr>\n",
       "    <tr>\n",
       "      <th>10</th>\n",
       "      <td>119.0</td>\n",
       "      <td>41.0</td>\n",
       "      <td>1</td>\n",
       "    </tr>\n",
       "    <tr>\n",
       "      <th>11</th>\n",
       "      <td>115.0</td>\n",
       "      <td>33.0</td>\n",
       "      <td>1</td>\n",
       "    </tr>\n",
       "    <tr>\n",
       "      <th>12</th>\n",
       "      <td>117.0</td>\n",
       "      <td>38.0</td>\n",
       "      <td>1</td>\n",
       "    </tr>\n",
       "    <tr>\n",
       "      <th>13</th>\n",
       "      <td>118.0</td>\n",
       "      <td>37.0</td>\n",
       "      <td>1</td>\n",
       "    </tr>\n",
       "    <tr>\n",
       "      <th>14</th>\n",
       "      <td>115.0</td>\n",
       "      <td>39.0</td>\n",
       "      <td>1</td>\n",
       "    </tr>\n",
       "    <tr>\n",
       "      <th>15</th>\n",
       "      <td>115.0</td>\n",
       "      <td>43.0</td>\n",
       "      <td>1</td>\n",
       "    </tr>\n",
       "  </tbody>\n",
       "</table>\n",
       "</div>"
      ],
      "text/plain": [
       "        x     y  team\n",
       "0   108.0  26.0     0\n",
       "1   114.0  47.0     0\n",
       "2   113.0  44.0     0\n",
       "3   116.0  44.0     0\n",
       "4   117.0  41.0     0\n",
       "5   117.0  39.0     0\n",
       "6   118.0  42.0     1\n",
       "7   114.0  41.0     1\n",
       "8   117.0  45.0     1\n",
       "9   118.0  32.0     1\n",
       "10  119.0  41.0     1\n",
       "11  115.0  33.0     1\n",
       "12  117.0  38.0     1\n",
       "13  118.0  37.0     1\n",
       "14  115.0  39.0     1\n",
       "15  115.0  43.0     1"
      ]
     },
     "execution_count": 9,
     "metadata": {},
     "output_type": "execute_result"
    }
   ],
   "source": [
    "fin"
   ]
  },
  {
   "cell_type": "code",
   "execution_count": 10,
   "id": "624309a5",
   "metadata": {},
   "outputs": [
    {
     "data": {
      "image/png": "[encoded data removed]",
      "text/plain": [
       "<Figure size 936x612 with 1 Axes>"
      ]
     },
     "metadata": {},
     "output_type": "display_data"
    }
   ],
   "source": [
    "#Setting up and plotting a voronoi plot of locations at the point of a shot\n",
    "fig,ax = plt.subplots(figsize=(13,8.5))\n",
    "fig.set_facecolor(\"#38383b\")\n",
    "ax.patch.set_facecolor(\"#38383b\")\n",
    "pitch = Pitch(pitch_type =\"statsbomb\", #orientation = \"horizontal\",\n",
    "              pitch_color =\"green\",line_color=\"white\",#constrained_layout = False, view = 'half',\n",
    "              axis =True, half = True)#, label = True, tick=True)\n",
    "pitch.draw(ax=ax)\n",
    "x=fin.x\n",
    "y=fin.y\n",
    "pitch.scatter(locX, locY, ax=ax, color=\"white\")\n",
    "pitch.scatter(oppX, oppY, ax=ax, color=\"black\")\n",
    "pitch.annotate(text='Megan Rapinoe Goal in 54th minute\\n OL Reign vs. Utah Royals 2018-07-12\\nFinal Score 1-0',\n",
    "               xytext=(90, 70), xy=(60, 40), ha='center', va='center',\n",
    "               ax=ax, fontfamily = 'serif', fontsize = 'large')\n",
    "pitch.annotate(text='Voronoi Plot of Player Positions',\n",
    "               xytext=(90, 10), xy=(60, 40), ha='center', va='center',\n",
    "               ax=ax, fontfamily = 'serif', fontsize = 'large')\n",
    "pitch.annotate(text=\"54'\",\n",
    "               xytext=(117, 3), xy=(60, 40), ha='center', va='center',\n",
    "               ax=ax, fontfamily = 'fantasy', fontsize = 'xx-large')\n",
    "from matplotlib.lines import Line2D\n",
    "legend_elements = [Line2D([0], [0], color='b', label='OL Reign'),\n",
    "                   Line2D([0], [0], color='r', label='Utah Royals')]\n",
    "ax.legend(handles=legend_elements, loc='upper left', labelcolor =\"black\")\n",
    "team1, team2 =pitch.voronoi(x,y,fin.team)\n",
    "t1 = pitch.polygon(team1,ax=ax,fc='blue',ec='white',lw=3,alpha=.4)\n",
    "t2 = pitch.polygon(team2,ax=ax,fc='red',ec='white',lw=3,alpha=.4)"
   ]
  }
 ],
 "metadata": {
  "kernelspec": {
   "display_name": "Python 3 (ipykernel)",
   "language": "python",
   "name": "python3"
  },
  "language_info": {
   "codemirror_mode": {
    "name": "ipython",
    "version": 3
   },
   "file_extension": ".py",
   "mimetype": "text/x-python",
   "name": "python",
   "nbconvert_exporter": "python",
   "pygments_lexer": "ipython3",
   "version": "3.9.7"
  }
 },
 "nbformat": 4,
 "nbformat_minor": 5
}
